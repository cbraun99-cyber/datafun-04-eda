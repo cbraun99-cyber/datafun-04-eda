{
 "cells": [
  {
   "cell_type": "markdown",
   "id": "2fa9f137",
   "metadata": {},
   "source": [
    "# Iris Dataset Exploratory Data Analysis (EDA)\n",
    "\n",
    "### Author: Christopher Braun\n",
    "\n",
    "Purpose: Exploratory Data Analysis of the Iris dataset using pandas and visualization tools\n",
    "\n",
    "Date: September 2025"
   ]
  },
  {
   "cell_type": "markdown",
   "id": "8fdbab1b",
   "metadata": {},
   "source": [
    "### **1. Imports**"
   ]
  },
  {
   "cell_type": "code",
   "execution_count": null,
   "id": "6f5b297b",
   "metadata": {},
   "outputs": [],
   "source": [
    "import pandas as pd\n",
    "import seaborn as sns\n",
    "import matplotlib.pyplot as plt\n",
    "import numpy as np\n",
    "\n",
    "# Set style for better visualizations\n",
    "sns.set_style(\"whitegrid\")\n",
    "plt.rcParams['figure.figsize'] = (10, 6)"
   ]
  },
  {
   "cell_type": "markdown",
   "id": "4f2e38e7",
   "metadata": {},
   "source": [
    "### **2. Load Data**"
   ]
  },
  {
   "cell_type": "code",
   "execution_count": null,
   "id": "8ac96925",
   "metadata": {},
   "outputs": [],
   "source": [
    "# Load the Iris dataset into pandas DataFrame\n",
    "iris_df: pd.DataFrame = sns.load_dataset('iris')\n",
    "\n",
    "# List column names\n",
    "print(\"Column names:\")\n",
    "print(iris_df.columns.tolist())\n",
    "print(\"\\n\")\n",
    "\n",
    "# Inspect first few rows of the DataFrame\n",
    "print(\"First 5 rows:\")\n",
    "iris_df.head()"
   ]
  },
  {
   "cell_type": "markdown",
   "id": "400fe2d7",
   "metadata": {},
   "source": [
    "### **3. Initial Data Inspection**"
   ]
  },
  {
   "cell_type": "code",
   "execution_count": null,
   "id": "a62edfb4",
   "metadata": {},
   "outputs": [],
   "source": [
    "# Specify the number of rows to display\n",
    "print(\"First 10 rows:\")\n",
    "iris_df.head(10)\n",
    "\n",
    "# Inspect the shape of the DataFrame with shape attribute\n",
    "print(f\"DataFrame shape: {iris_df.shape}\")\n",
    "print(f\"Number of rows: {iris_df.shape[0]}\")\n",
    "print(f\"Number of columns: {iris_df.shape[1]}\")\n",
    "\n",
    "# Inspect the data types of the columns with dtypes attribute\n",
    "print(\"Data types:\")\n",
    "print(iris_df.dtypes)\n",
    "\n",
    "# Inspect the data types of the columns with info() method\n",
    "iris_df.info()"
   ]
  },
  {
   "cell_type": "markdown",
   "id": "feefe012",
   "metadata": {},
   "source": [
    "### **4. Initial Descriptive Statistics**"
   ]
  },
  {
   "cell_type": "code",
   "execution_count": null,
   "id": "bfc6b484",
   "metadata": {},
   "outputs": [],
   "source": [
    "# Inspect summary statistics for numerical columns\n",
    "iris_df.describe()"
   ]
  },
  {
   "cell_type": "markdown",
   "id": "ec815ba0",
   "metadata": {},
   "source": [
    "### **5. Initial Data Distribution for Numerical Columns**"
   ]
  },
  {
   "cell_type": "code",
   "execution_count": null,
   "id": "fe851390",
   "metadata": {},
   "outputs": [],
   "source": [
    "# Inspect histogram by one numerical column\n",
    "iris_df['sepal_length'].hist()\n",
    "plt.title('Distribution of Sepal Length')\n",
    "plt.xlabel('Sepal Length (cm)')\n",
    "plt.ylabel('Frequency')\n",
    "plt.show()\n",
    "\n",
    "# Inspect histograms for ALL numerical columns\n",
    "iris_df.hist()\n",
    "plt.suptitle('Distribution of All Numerical Features', y=1.02)\n",
    "plt.tight_layout()\n",
    "plt.show()"
   ]
  },
  {
   "cell_type": "markdown",
   "id": "7204681c",
   "metadata": {},
   "source": [
    "### **6. Initial Data Distribution for Catagorical Columns**"
   ]
  },
  {
   "cell_type": "code",
   "execution_count": null,
   "id": "a8be19f9",
   "metadata": {},
   "outputs": [],
   "source": [
    "# Inspect value counts by categorical column\n",
    "print(\"Species value counts:\")\n",
    "print(iris_df['species'].value_counts())\n",
    "print(\"\\n\")\n",
    "\n",
    "# Visualize distribution of species\n",
    "sns.countplot(x='species', data=iris_df)\n",
    "plt.title('Distribution of Iris Species')\n",
    "plt.xlabel('Species')\n",
    "plt.ylabel('Count')\n",
    "plt.show()"
   ]
  },
  {
   "cell_type": "markdown",
   "id": "dc6a130b",
   "metadata": {},
   "source": [
    "### **7. Initial Data Transformation and Feature Engineering**"
   ]
  },
  {
   "cell_type": "code",
   "execution_count": null,
   "id": "923aafff",
   "metadata": {},
   "outputs": [],
   "source": [
    "# Create a copy to preserve original data\n",
    "iris_analysis_df = iris_df.copy()\n",
    "\n",
    "# Renaming columns for consistency and clarity\n",
    "iris_analysis_df.rename(columns={\n",
    "    'sepal_length': 'sepal_length_cm',\n",
    "    'sepal_width': 'sepal_width_cm',\n",
    "    'petal_length': 'petal_length_cm',\n",
    "    'petal_width': 'petal_width_cm'\n",
    "}, inplace=True)\n",
    "\n",
    "# Adding new engineered features\n",
    "iris_analysis_df['sepal_area_cm2'] = iris_analysis_df['sepal_length_cm'] * iris_analysis_df['sepal_width_cm']\n",
    "iris_analysis_df['petal_area_cm2'] = iris_analysis_df['petal_length_cm'] * iris_analysis_df['petal_width_cm']\n",
    "iris_analysis_df['sepal_to_petal_ratio'] = iris_analysis_df['sepal_length_cm'] / iris_analysis_df['petal_length_cm']\n",
    "\n",
    "# Display the enhanced dataset\n",
    "print(\"Enhanced dataset with new features:\")\n",
    "iris_analysis_df.head()"
   ]
  },
  {
   "cell_type": "markdown",
   "id": "205e055d",
   "metadata": {},
   "source": [
    "### **8. Initial Visualizations**"
   ]
  },
  {
   "cell_type": "code",
   "execution_count": null,
   "id": "5788f45b",
   "metadata": {},
   "outputs": [],
   "source": [
    "# Create a pairplot of the Iris dataset\n",
    "sns.pairplot(iris_analysis_df, hue='species', diag_kind='hist')\n",
    "plt.suptitle('Pairplot of Iris Features by Species', y=1.02)\n",
    "plt.show()\n",
    "\n",
    "# Create a scatter plot comparing sepal length and area\n",
    "scatter_plt = sns.scatterplot(\n",
    "    data=iris_analysis_df, \n",
    "    x=\"sepal_length_cm\", \n",
    "    y=\"sepal_area_cm2\", \n",
    "    hue=\"species\",\n",
    "    s=100\n",
    ")\n",
    "\n",
    "# Customize the plot\n",
    "scatter_plt.set_xlabel(\"Sepal Length (cm)\")\n",
    "scatter_plt.set_ylabel(\"Sepal Area (cm²)\")   \n",
    "scatter_plt.set_title(\"Chart 1. Iris Sepal Length vs. Sepal Area (by Species)\")\n",
    "plt.legend(title='Species')\n",
    "plt.show()\n",
    "\n",
    "# Create boxplots to compare distributions across species\n",
    "fig, axes = plt.subplots(2, 2, figsize=(15, 10))\n",
    "\n",
    "features = ['sepal_length_cm', 'sepal_width_cm', 'petal_length_cm', 'petal_width_cm']\n",
    "titles = ['Sepal Length', 'Sepal Width', 'Petal Length', 'Petal Width']\n",
    "\n",
    "for i, (ax, feature, title) in enumerate(zip(axes.flat, features, titles)):\n",
    "    sns.boxplot(x='species', y=feature, data=iris_analysis_df, ax=ax)\n",
    "    ax.set_title(f'{title} by Species')\n",
    "    ax.set_xlabel('Species')\n",
    "    ax.set_ylabel(f'{title} (cm)')\n",
    "\n",
    "plt.tight_layout()\n",
    "plt.suptitle('Comparison of Iris Measurements by Species', y=1.02, fontsize=16)\n",
    "plt.show()\n",
    "\n",
    "# Correlation heatmap\n",
    "plt.figure(figsize=(10, 8))\n",
    "numeric_df = iris_analysis_df.select_dtypes(include=[np.number])\n",
    "correlation_matrix = numeric_df.corr()\n",
    "\n",
    "sns.heatmap(correlation_matrix, annot=True, cmap='coolwarm', center=0)\n",
    "plt.title('Correlation Matrix of Iris Features')\n",
    "plt.tight_layout()\n",
    "plt.show()\n"
   ]
  }
 ],
 "metadata": {
  "kernelspec": {
   "display_name": ".venv",
   "language": "python",
   "name": "python3"
  },
  "language_info": {
   "name": "python",
   "version": "3.13.7"
  }
 },
 "nbformat": 4,
 "nbformat_minor": 5
}
