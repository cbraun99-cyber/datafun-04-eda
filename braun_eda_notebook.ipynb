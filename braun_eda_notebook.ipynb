{
 "cells": [
  {
   "cell_type": "markdown",
   "id": "2fa9f137",
   "metadata": {},
   "source": [
    "# Iris Dataset Exploratory Data Analysis (EDA)\n",
    "\n",
    "### Author: Christopher Braun\n",
    "\n",
    "Purpose: Exploratory Data Analysis of the Iris dataset using pandas and visualization tools\n",
    "\n",
    "Date: September 2025"
   ]
  },
  {
   "cell_type": "markdown",
   "id": "8fdbab1b",
   "metadata": {},
   "source": [
    "### **1. Imports**"
   ]
  },
  {
   "cell_type": "code",
   "execution_count": null,
   "id": "6f5b297b",
   "metadata": {},
   "outputs": [],
   "source": [
    "import pandas as pd\n",
    "import seaborn as sns\n",
    "import matplotlib.pyplot as plt\n",
    "import numpy as np\n",
    "\n",
    "# Set style for better visualizations\n",
    "sns.set_style(\"whitegrid\")\n",
    "plt.rcParams['figure.figsize'] = (10, 6)"
   ]
  },
  {
   "cell_type": "markdown",
   "id": "4f2e38e7",
   "metadata": {},
   "source": [
    "### **2. Load Data**"
   ]
  },
  {
   "cell_type": "code",
   "execution_count": null,
   "id": "8ac96925",
   "metadata": {},
   "outputs": [],
   "source": [
    "# Load the Iris dataset into pandas DataFrame\n",
    "iris_df: pd.DataFrame = sns.load_dataset('iris')\n",
    "\n",
    "# List column names\n",
    "print(\"Column names:\")\n",
    "print(iris_df.columns.tolist())\n",
    "print(\"\\n\")\n",
    "\n",
    "# Inspect first few rows of the DataFrame\n",
    "print(\"First 5 rows:\")\n",
    "iris_df.head()"
   ]
  },
  {
   "cell_type": "markdown",
   "id": "400fe2d7",
   "metadata": {},
   "source": [
    "### **3. Initial Data Inspection**"
   ]
  },
  {
   "cell_type": "code",
   "execution_count": null,
   "id": "a62edfb4",
   "metadata": {},
   "outputs": [],
   "source": [
    "# Specify the number of rows to display\n",
    "print(\"First 10 rows:\")\n",
    "iris_df.head(10)\n",
    "\n",
    "# Inspect the shape of the DataFrame with shape attribute\n",
    "print(f\"DataFrame shape: {iris_df.shape}\")\n",
    "print(f\"Number of rows: {iris_df.shape[0]}\")\n",
    "print(f\"Number of columns: {iris_df.shape[1]}\")\n",
    "\n",
    "# Inspect the data types of the columns with dtypes attribute\n",
    "print(\"Data types:\")\n",
    "print(iris_df.dtypes)\n",
    "\n",
    "# Inspect the data types of the columns with info() method\n",
    "iris_df.info()"
   ]
  }
 ],
 "metadata": {
  "kernelspec": {
   "display_name": ".venv",
   "language": "python",
   "name": "python3"
  },
  "language_info": {
   "name": "python",
   "version": "3.13.7"
  }
 },
 "nbformat": 4,
 "nbformat_minor": 5
}
