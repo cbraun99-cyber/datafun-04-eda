{
 "cells": [
  {
   "cell_type": "markdown",
   "id": "2fa9f137",
   "metadata": {},
   "source": [
    "# Iris Dataset Exploratory Data Analysis (EDA)\n",
    "\n",
    "### Author: Christopher Braun\n",
    "\n",
    "Purpose: Exploratory Data Analysis of the Iris dataset using pandas and visualization tools\n",
    "\n",
    "Date: September 2025"
   ]
  },
  {
   "cell_type": "markdown",
   "id": "8fdbab1b",
   "metadata": {},
   "source": [
    "### **1. Imports**"
   ]
  },
  {
   "cell_type": "code",
   "execution_count": 1,
   "id": "6f5b297b",
   "metadata": {},
   "outputs": [],
   "source": [
    "import pandas as pd\n",
    "import seaborn as sns\n",
    "import matplotlib.pyplot as plt\n",
    "import numpy as np\n",
    "\n",
    "# Set style for better visualizations\n",
    "sns.set_style(\"whitegrid\")\n",
    "plt.rcParams['figure.figsize'] = (10, 6)"
   ]
  },
  {
   "cell_type": "markdown",
   "id": "4f2e38e7",
   "metadata": {},
   "source": [
    "### **2. Load Data**"
   ]
  },
  {
   "cell_type": "code",
   "execution_count": 2,
   "id": "8ac96925",
   "metadata": {},
   "outputs": [
    {
     "name": "stdout",
     "output_type": "stream",
     "text": [
      "Column names:\n",
      "['sepal_length', 'sepal_width', 'petal_length', 'petal_width', 'species']\n",
      "\n",
      "\n",
      "First 5 rows:\n"
     ]
    },
    {
     "data": {
      "text/html": [
       "<div>\n",
       "<style scoped>\n",
       "    .dataframe tbody tr th:only-of-type {\n",
       "        vertical-align: middle;\n",
       "    }\n",
       "\n",
       "    .dataframe tbody tr th {\n",
       "        vertical-align: top;\n",
       "    }\n",
       "\n",
       "    .dataframe thead th {\n",
       "        text-align: right;\n",
       "    }\n",
       "</style>\n",
       "<table border=\"1\" class=\"dataframe\">\n",
       "  <thead>\n",
       "    <tr style=\"text-align: right;\">\n",
       "      <th></th>\n",
       "      <th>sepal_length</th>\n",
       "      <th>sepal_width</th>\n",
       "      <th>petal_length</th>\n",
       "      <th>petal_width</th>\n",
       "      <th>species</th>\n",
       "    </tr>\n",
       "  </thead>\n",
       "  <tbody>\n",
       "    <tr>\n",
       "      <th>0</th>\n",
       "      <td>5.1</td>\n",
       "      <td>3.5</td>\n",
       "      <td>1.4</td>\n",
       "      <td>0.2</td>\n",
       "      <td>setosa</td>\n",
       "    </tr>\n",
       "    <tr>\n",
       "      <th>1</th>\n",
       "      <td>4.9</td>\n",
       "      <td>3.0</td>\n",
       "      <td>1.4</td>\n",
       "      <td>0.2</td>\n",
       "      <td>setosa</td>\n",
       "    </tr>\n",
       "    <tr>\n",
       "      <th>2</th>\n",
       "      <td>4.7</td>\n",
       "      <td>3.2</td>\n",
       "      <td>1.3</td>\n",
       "      <td>0.2</td>\n",
       "      <td>setosa</td>\n",
       "    </tr>\n",
       "    <tr>\n",
       "      <th>3</th>\n",
       "      <td>4.6</td>\n",
       "      <td>3.1</td>\n",
       "      <td>1.5</td>\n",
       "      <td>0.2</td>\n",
       "      <td>setosa</td>\n",
       "    </tr>\n",
       "    <tr>\n",
       "      <th>4</th>\n",
       "      <td>5.0</td>\n",
       "      <td>3.6</td>\n",
       "      <td>1.4</td>\n",
       "      <td>0.2</td>\n",
       "      <td>setosa</td>\n",
       "    </tr>\n",
       "  </tbody>\n",
       "</table>\n",
       "</div>"
      ],
      "text/plain": [
       "   sepal_length  sepal_width  petal_length  petal_width species\n",
       "0           5.1          3.5           1.4          0.2  setosa\n",
       "1           4.9          3.0           1.4          0.2  setosa\n",
       "2           4.7          3.2           1.3          0.2  setosa\n",
       "3           4.6          3.1           1.5          0.2  setosa\n",
       "4           5.0          3.6           1.4          0.2  setosa"
      ]
     },
     "execution_count": 2,
     "metadata": {},
     "output_type": "execute_result"
    }
   ],
   "source": [
    "# Load the Iris dataset into pandas DataFrame\n",
    "iris_df: pd.DataFrame = sns.load_dataset('iris')\n",
    "\n",
    "# List column names\n",
    "print(\"Column names:\")\n",
    "print(iris_df.columns.tolist())\n",
    "print(\"\\n\")\n",
    "\n",
    "# Inspect first few rows of the DataFrame\n",
    "print(\"First 5 rows:\")\n",
    "iris_df.head()"
   ]
  },
  {
   "cell_type": "markdown",
   "id": "400fe2d7",
   "metadata": {},
   "source": [
    "### **3. Initial Data Inspection**"
   ]
  },
  {
   "cell_type": "code",
   "execution_count": 3,
   "id": "a62edfb4",
   "metadata": {},
   "outputs": [
    {
     "name": "stdout",
     "output_type": "stream",
     "text": [
      "First 10 rows:\n",
      "DataFrame shape: (150, 5)\n",
      "Number of rows: 150\n",
      "Number of columns: 5\n",
      "Data types:\n",
      "sepal_length    float64\n",
      "sepal_width     float64\n",
      "petal_length    float64\n",
      "petal_width     float64\n",
      "species          object\n",
      "dtype: object\n",
      "<class 'pandas.core.frame.DataFrame'>\n",
      "RangeIndex: 150 entries, 0 to 149\n",
      "Data columns (total 5 columns):\n",
      " #   Column        Non-Null Count  Dtype  \n",
      "---  ------        --------------  -----  \n",
      " 0   sepal_length  150 non-null    float64\n",
      " 1   sepal_width   150 non-null    float64\n",
      " 2   petal_length  150 non-null    float64\n",
      " 3   petal_width   150 non-null    float64\n",
      " 4   species       150 non-null    object \n",
      "dtypes: float64(4), object(1)\n",
      "memory usage: 6.0+ KB\n"
     ]
    }
   ],
   "source": [
    "# Specify the number of rows to display\n",
    "print(\"First 10 rows:\")\n",
    "iris_df.head(10)\n",
    "\n",
    "# Inspect the shape of the DataFrame with shape attribute\n",
    "print(f\"DataFrame shape: {iris_df.shape}\")\n",
    "print(f\"Number of rows: {iris_df.shape[0]}\")\n",
    "print(f\"Number of columns: {iris_df.shape[1]}\")\n",
    "\n",
    "# Inspect the data types of the columns with dtypes attribute\n",
    "print(\"Data types:\")\n",
    "print(iris_df.dtypes)\n",
    "\n",
    "# Inspect the data types of the columns with info() method\n",
    "iris_df.info()"
   ]
  },
  {
   "cell_type": "markdown",
   "id": "50d462cc",
   "metadata": {},
   "source": [
    "**Initial Observations**\n",
    "\n",
    "The Iris dataset contains 150 observations with 5 columns. Four columns are numerical (sepal_length, sepal_width, petal_length, petal_width) and one is categorical (species). There are no missing values in this dataset."
   ]
  },
  {
   "cell_type": "markdown",
   "id": "feefe012",
   "metadata": {},
   "source": [
    "### **4. Initial Descriptive Statistics**"
   ]
  },
  {
   "cell_type": "code",
   "execution_count": 4,
   "id": "bfc6b484",
   "metadata": {},
   "outputs": [
    {
     "data": {
      "text/html": [
       "<div>\n",
       "<style scoped>\n",
       "    .dataframe tbody tr th:only-of-type {\n",
       "        vertical-align: middle;\n",
       "    }\n",
       "\n",
       "    .dataframe tbody tr th {\n",
       "        vertical-align: top;\n",
       "    }\n",
       "\n",
       "    .dataframe thead th {\n",
       "        text-align: right;\n",
       "    }\n",
       "</style>\n",
       "<table border=\"1\" class=\"dataframe\">\n",
       "  <thead>\n",
       "    <tr style=\"text-align: right;\">\n",
       "      <th></th>\n",
       "      <th>sepal_length</th>\n",
       "      <th>sepal_width</th>\n",
       "      <th>petal_length</th>\n",
       "      <th>petal_width</th>\n",
       "    </tr>\n",
       "  </thead>\n",
       "  <tbody>\n",
       "    <tr>\n",
       "      <th>count</th>\n",
       "      <td>150.000000</td>\n",
       "      <td>150.000000</td>\n",
       "      <td>150.000000</td>\n",
       "      <td>150.000000</td>\n",
       "    </tr>\n",
       "    <tr>\n",
       "      <th>mean</th>\n",
       "      <td>5.843333</td>\n",
       "      <td>3.057333</td>\n",
       "      <td>3.758000</td>\n",
       "      <td>1.199333</td>\n",
       "    </tr>\n",
       "    <tr>\n",
       "      <th>std</th>\n",
       "      <td>0.828066</td>\n",
       "      <td>0.435866</td>\n",
       "      <td>1.765298</td>\n",
       "      <td>0.762238</td>\n",
       "    </tr>\n",
       "    <tr>\n",
       "      <th>min</th>\n",
       "      <td>4.300000</td>\n",
       "      <td>2.000000</td>\n",
       "      <td>1.000000</td>\n",
       "      <td>0.100000</td>\n",
       "    </tr>\n",
       "    <tr>\n",
       "      <th>25%</th>\n",
       "      <td>5.100000</td>\n",
       "      <td>2.800000</td>\n",
       "      <td>1.600000</td>\n",
       "      <td>0.300000</td>\n",
       "    </tr>\n",
       "    <tr>\n",
       "      <th>50%</th>\n",
       "      <td>5.800000</td>\n",
       "      <td>3.000000</td>\n",
       "      <td>4.350000</td>\n",
       "      <td>1.300000</td>\n",
       "    </tr>\n",
       "    <tr>\n",
       "      <th>75%</th>\n",
       "      <td>6.400000</td>\n",
       "      <td>3.300000</td>\n",
       "      <td>5.100000</td>\n",
       "      <td>1.800000</td>\n",
       "    </tr>\n",
       "    <tr>\n",
       "      <th>max</th>\n",
       "      <td>7.900000</td>\n",
       "      <td>4.400000</td>\n",
       "      <td>6.900000</td>\n",
       "      <td>2.500000</td>\n",
       "    </tr>\n",
       "  </tbody>\n",
       "</table>\n",
       "</div>"
      ],
      "text/plain": [
       "       sepal_length  sepal_width  petal_length  petal_width\n",
       "count    150.000000   150.000000    150.000000   150.000000\n",
       "mean       5.843333     3.057333      3.758000     1.199333\n",
       "std        0.828066     0.435866      1.765298     0.762238\n",
       "min        4.300000     2.000000      1.000000     0.100000\n",
       "25%        5.100000     2.800000      1.600000     0.300000\n",
       "50%        5.800000     3.000000      4.350000     1.300000\n",
       "75%        6.400000     3.300000      5.100000     1.800000\n",
       "max        7.900000     4.400000      6.900000     2.500000"
      ]
     },
     "execution_count": 4,
     "metadata": {},
     "output_type": "execute_result"
    }
   ],
   "source": [
    "# Inspect summary statistics for numerical columns\n",
    "iris_df.describe()"
   ]
  },
  {
   "cell_type": "markdown",
   "id": "3cf2f416",
   "metadata": {},
   "source": [
    "**Observations**\n",
    "\n",
    "The summary statistics show that petal measurements have greater variability than sepal measurements. Petal length ranges from 1.0 to 6.9 cm, while sepal length ranges from 4.3 to 7.9 cm."
   ]
  },
  {
   "cell_type": "markdown",
   "id": "ec815ba0",
   "metadata": {},
   "source": [
    "### **5. Initial Data Distribution for Numerical Columns**"
   ]
  },
  {
   "cell_type": "code",
   "execution_count": 5,
   "id": "fe851390",
   "metadata": {},
   "outputs": [
    {
     "data": {
      "image/png": "[encoded data removed]",
      "text/plain": [
       "<Figure size 1000x600 with 1 Axes>"
      ]
     },
     "metadata": {},
     "output_type": "display_data"
    },
    {
     "data": {
      "image/png": "[encoded data removed]",
      "text/plain": [
       "<Figure size 1000x600 with 4 Axes>"
      ]
     },
     "metadata": {},
     "output_type": "display_data"
    }
   ],
   "source": [
    "# Inspect histogram by one numerical column\n",
    "iris_df['sepal_length'].hist()\n",
    "plt.title('Distribution of Sepal Length')\n",
    "plt.xlabel('Sepal Length (cm)')\n",
    "plt.ylabel('Frequency')\n",
    "plt.show()\n",
    "\n",
    "# Inspect histograms for ALL numerical columns\n",
    "iris_df.hist()\n",
    "plt.suptitle('Distribution of All Numerical Features', y=1.02)\n",
    "plt.tight_layout()\n",
    "plt.show()"
   ]
  },
  {
   "cell_type": "markdown",
   "id": "cfc4a5e1",
   "metadata": {},
   "source": [
    "**Observations**\n",
    "\n",
    "The histograms show that sepal width appears roughly normally distributed, while petal length and width show bimodal distributions, suggesting possible clustering by species."
   ]
  },
  {
   "cell_type": "markdown",
   "id": "7204681c",
   "metadata": {},
   "source": [
    "### **6. Initial Data Distribution for Catagorical Columns**"
   ]
  },
  {
   "cell_type": "code",
   "execution_count": 6,
   "id": "a8be19f9",
   "metadata": {},
   "outputs": [
    {
     "name": "stdout",
     "output_type": "stream",
     "text": [
      "Species value counts:\n",
      "species\n",
      "setosa        50\n",
      "versicolor    50\n",
      "virginica     50\n",
      "Name: count, dtype: int64\n",
      "\n",
      "\n"
     ]
    },
    {
     "data": {
      "image/png": "[encoded data removed]",
      "text/plain": [
       "<Figure size 1000x600 with 1 Axes>"
      ]
     },
     "metadata": {},
     "output_type": "display_data"
    }
   ],
   "source": [
    "# Inspect value counts by categorical column\n",
    "print(\"Species value counts:\")\n",
    "print(iris_df['species'].value_counts())\n",
    "print(\"\\n\")\n",
    "\n",
    "# Visualize distribution of species\n",
    "sns.countplot(x='species', data=iris_df)\n",
    "plt.title('Distribution of Iris Species')\n",
    "plt.xlabel('Species')\n",
    "plt.ylabel('Count')\n",
    "plt.show()"
   ]
  },
  {
   "cell_type": "markdown",
   "id": "18e8e679",
   "metadata": {},
   "source": [
    "**Observations**\n",
    "\n",
    "The dataset is perfectly balanced with 50 observations for each of the three iris species: setosa, versicolor, and virginica."
   ]
  },
  {
   "cell_type": "markdown",
   "id": "dc6a130b",
   "metadata": {},
   "source": [
    "### **7. Initial Data Transformation and Feature Engineering**"
   ]
  },
  {
   "cell_type": "code",
   "execution_count": 7,
   "id": "923aafff",
   "metadata": {},
   "outputs": [
    {
     "name": "stdout",
     "output_type": "stream",
     "text": [
      "Enhanced dataset with new features:\n"
     ]
    },
    {
     "data": {
      "text/html": [
       "<div>\n",
       "<style scoped>\n",
       "    .dataframe tbody tr th:only-of-type {\n",
       "        vertical-align: middle;\n",
       "    }\n",
       "\n",
       "    .dataframe tbody tr th {\n",
       "        vertical-align: top;\n",
       "    }\n",
       "\n",
       "    .dataframe thead th {\n",
       "        text-align: right;\n",
       "    }\n",
       "</style>\n",
       "<table border=\"1\" class=\"dataframe\">\n",
       "  <thead>\n",
       "    <tr style=\"text-align: right;\">\n",
       "      <th></th>\n",
       "      <th>sepal_length_cm</th>\n",
       "      <th>sepal_width_cm</th>\n",
       "      <th>petal_length_cm</th>\n",
       "      <th>petal_width_cm</th>\n",
       "      <th>species</th>\n",
       "      <th>sepal_area_cm2</th>\n",
       "      <th>petal_area_cm2</th>\n",
       "      <th>sepal_to_petal_ratio</th>\n",
       "    </tr>\n",
       "  </thead>\n",
       "  <tbody>\n",
       "    <tr>\n",
       "      <th>0</th>\n",
       "      <td>5.1</td>\n",
       "      <td>3.5</td>\n",
       "      <td>1.4</td>\n",
       "      <td>0.2</td>\n",
       "      <td>setosa</td>\n",
       "      <td>17.85</td>\n",
       "      <td>0.28</td>\n",
       "      <td>3.642857</td>\n",
       "    </tr>\n",
       "    <tr>\n",
       "      <th>1</th>\n",
       "      <td>4.9</td>\n",
       "      <td>3.0</td>\n",
       "      <td>1.4</td>\n",
       "      <td>0.2</td>\n",
       "      <td>setosa</td>\n",
       "      <td>14.70</td>\n",
       "      <td>0.28</td>\n",
       "      <td>3.500000</td>\n",
       "    </tr>\n",
       "    <tr>\n",
       "      <th>2</th>\n",
       "      <td>4.7</td>\n",
       "      <td>3.2</td>\n",
       "      <td>1.3</td>\n",
       "      <td>0.2</td>\n",
       "      <td>setosa</td>\n",
       "      <td>15.04</td>\n",
       "      <td>0.26</td>\n",
       "      <td>3.615385</td>\n",
       "    </tr>\n",
       "    <tr>\n",
       "      <th>3</th>\n",
       "      <td>4.6</td>\n",
       "      <td>3.1</td>\n",
       "      <td>1.5</td>\n",
       "      <td>0.2</td>\n",
       "      <td>setosa</td>\n",
       "      <td>14.26</td>\n",
       "      <td>0.30</td>\n",
       "      <td>3.066667</td>\n",
       "    </tr>\n",
       "    <tr>\n",
       "      <th>4</th>\n",
       "      <td>5.0</td>\n",
       "      <td>3.6</td>\n",
       "      <td>1.4</td>\n",
       "      <td>0.2</td>\n",
       "      <td>setosa</td>\n",
       "      <td>18.00</td>\n",
       "      <td>0.28</td>\n",
       "      <td>3.571429</td>\n",
       "    </tr>\n",
       "  </tbody>\n",
       "</table>\n",
       "</div>"
      ],
      "text/plain": [
       "   sepal_length_cm  sepal_width_cm  petal_length_cm  petal_width_cm species  \\\n",
       "0              5.1             3.5              1.4             0.2  setosa   \n",
       "1              4.9             3.0              1.4             0.2  setosa   \n",
       "2              4.7             3.2              1.3             0.2  setosa   \n",
       "3              4.6             3.1              1.5             0.2  setosa   \n",
       "4              5.0             3.6              1.4             0.2  setosa   \n",
       "\n",
       "   sepal_area_cm2  petal_area_cm2  sepal_to_petal_ratio  \n",
       "0           17.85            0.28              3.642857  \n",
       "1           14.70            0.28              3.500000  \n",
       "2           15.04            0.26              3.615385  \n",
       "3           14.26            0.30              3.066667  \n",
       "4           18.00            0.28              3.571429  "
      ]
     },
     "execution_count": 7,
     "metadata": {},
     "output_type": "execute_result"
    }
   ],
   "source": [
    "# Create a copy to preserve original data\n",
    "iris_analysis_df = iris_df.copy()\n",
    "\n",
    "# Renaming columns for consistency and clarity\n",
    "iris_analysis_df.rename(columns={\n",
    "    'sepal_length': 'sepal_length_cm',\n",
    "    'sepal_width': 'sepal_width_cm',\n",
    "    'petal_length': 'petal_length_cm',\n",
    "    'petal_width': 'petal_width_cm'\n",
    "}, inplace=True)\n",
    "\n",
    "# Adding new engineered features\n",
    "iris_analysis_df['sepal_area_cm2'] = iris_analysis_df['sepal_length_cm'] * iris_analysis_df['sepal_width_cm']\n",
    "iris_analysis_df['petal_area_cm2'] = iris_analysis_df['petal_length_cm'] * iris_analysis_df['petal_width_cm']\n",
    "iris_analysis_df['sepal_to_petal_ratio'] = iris_analysis_df['sepal_length_cm'] / iris_analysis_df['petal_length_cm']\n",
    "\n",
    "# Display the enhanced dataset\n",
    "print(\"Enhanced dataset with new features:\")\n",
    "iris_analysis_df.head()"
   ]
  },
  {
   "cell_type": "markdown",
   "id": "186dec09",
   "metadata": {},
   "source": [
    "**Observations**\n",
    "\n",
    "The data is transformed into a csv style format."
   ]
  },
  {
   "cell_type": "markdown",
   "id": "205e055d",
   "metadata": {},
   "source": [
    "### **8. Initial Visualizations**"
   ]
  },
  {
   "cell_type": "code",
   "execution_count": null,
   "id": "5788f45b",
   "metadata": {},
   "outputs": [],
   "source": [
    "# Create a pairplot of the Iris dataset\n",
    "sns.pairplot(iris_analysis_df, hue='species', diag_kind='hist')\n",
    "plt.suptitle('Pairplot of Iris Features by Species', y=1.02)\n",
    "plt.show()"
   ]
  },
  {
   "cell_type": "markdown",
   "id": "d65caeff",
   "metadata": {},
   "source": [
    "**Observations**\n",
    "\n",
    "The pairplot clearly shows that the three species form distinct clusters, especially in petal measurements. Setosa has distinctly smaller petals compared to the other two species."
   ]
  },
  {
   "cell_type": "code",
   "execution_count": null,
   "id": "44db4d65",
   "metadata": {},
   "outputs": [],
   "source": [
    "# Create a scatter plot comparing sepal length and area\n",
    "scatter_plt = sns.scatterplot(\n",
    "    data=iris_analysis_df, \n",
    "    x=\"sepal_length_cm\", \n",
    "    y=\"sepal_area_cm2\", \n",
    "    hue=\"species\",\n",
    "    s=100\n",
    ")\n",
    "\n",
    "# Customize the plot\n",
    "scatter_plt.set_xlabel(\"Sepal Length (cm)\")\n",
    "scatter_plt.set_ylabel(\"Sepal Area (cm²)\")   \n",
    "scatter_plt.set_title(\"Chart 1. Iris Sepal Length vs. Sepal Area (by Species)\")\n",
    "plt.legend(title='Species')\n",
    "plt.show()\n",
    "\n",
    "# Create boxplots to compare distributions across species\n",
    "fig, axes = plt.subplots(2, 2, figsize=(15, 10))\n",
    "\n",
    "features = ['sepal_length_cm', 'sepal_width_cm', 'petal_length_cm', 'petal_width_cm']\n",
    "titles = ['Sepal Length', 'Sepal Width', 'Petal Length', 'Petal Width']\n",
    "\n",
    "for i, (ax, feature, title) in enumerate(zip(axes.flat, features, titles)):\n",
    "    sns.boxplot(x='species', y=feature, data=iris_analysis_df, ax=ax)\n",
    "    ax.set_title(f'{title} by Species')\n",
    "    ax.set_xlabel('Species')\n",
    "    ax.set_ylabel(f'{title} (cm)')\n",
    "\n",
    "plt.tight_layout()\n",
    "plt.suptitle('Comparison of Iris Measurements by Species', y=1.02, fontsize=16)\n",
    "plt.show()"
   ]
  },
  {
   "cell_type": "markdown",
   "id": "6da2ae34",
   "metadata": {},
   "source": [
    "**Observations**\n",
    "\n",
    "The boxplots clearly show distinct measurements for each species. Setosa has notably smaller petals but wider sepals compared to the other species. Virginica has the largest petals on average."
   ]
  },
  {
   "cell_type": "code",
   "execution_count": null,
   "id": "08bb090a",
   "metadata": {},
   "outputs": [],
   "source": [
    "# Correlation heatmap\n",
    "plt.figure(figsize=(10, 8))\n",
    "numeric_df = iris_analysis_df.select_dtypes(include=[np.number])\n",
    "correlation_matrix = numeric_df.corr()\n",
    "\n",
    "sns.heatmap(correlation_matrix, annot=True, cmap='coolwarm', center=0)\n",
    "plt.title('Correlation Matrix of Iris Features')\n",
    "plt.tight_layout()\n",
    "plt.show()"
   ]
  },
  {
   "cell_type": "markdown",
   "id": "02c1eb14",
   "metadata": {},
   "source": [
    "**Observations**\n",
    "\n",
    "The heatmap shows strong positive correlation between petal length and petal width (0.96), and between the new engineered features and their component measurements."
   ]
  }
 ],
 "metadata": {
  "kernelspec": {
   "display_name": ".venv",
   "language": "python",
   "name": "python3"
  },
  "language_info": {
   "codemirror_mode": {
    "name": "ipython",
    "version": 3
   },
   "file_extension": ".py",
   "mimetype": "text/x-python",
   "name": "python",
   "nbconvert_exporter": "python",
   "pygments_lexer": "ipython3",
   "version": "3.13.7"
  }
 },
 "nbformat": 4,
 "nbformat_minor": 5
}
