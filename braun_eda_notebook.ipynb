{
 "cells": [
  {
   "cell_type": "markdown",
   "id": "2fa9f137",
   "metadata": {},
   "source": [
    "# Iris Dataset Exploratory Data Analysis (EDA)\n",
    "\n",
    "### Author: Christopher Braun\n",
    "\n",
    "Purpose: Exploratory Data Analysis of the Iris dataset using pandas and visualization tools\n",
    "\n",
    "Date: September 2025"
   ]
  },
  {
   "cell_type": "markdown",
   "id": "8fdbab1b",
   "metadata": {},
   "source": [
    "### **1. Imports**"
   ]
  },
  {
   "cell_type": "code",
   "execution_count": null,
   "id": "6f5b297b",
   "metadata": {},
   "outputs": [],
   "source": [
    "import pandas as pd\n",
    "import seaborn as sns\n",
    "import matplotlib.pyplot as plt\n",
    "import numpy as np\n",
    "\n",
    "# Set style for better visualizations\n",
    "sns.set_style(\"whitegrid\")\n",
    "plt.rcParams['figure.figsize'] = (10, 6)"
   ]
  }
 ],
 "metadata": {
  "kernelspec": {
   "display_name": ".venv",
   "language": "python",
   "name": "python3"
  },
  "language_info": {
   "name": "python",
   "version": "3.13.7"
  }
 },
 "nbformat": 4,
 "nbformat_minor": 5
}
